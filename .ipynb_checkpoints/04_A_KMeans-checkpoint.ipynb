{
 "cells": [
  {
   "cell_type": "markdown",
   "metadata": {},
   "source": [
    "# Introductory applied machine learning (INFR10069)\n",
    "# Assignment 4: Unsupervised Learning Part A (KMeans Clustering)"
   ]
  },
  {
   "cell_type": "markdown",
   "metadata": {},
   "source": [
    "## Important Instructions\n",
    "\n",
    "**It is important that you follow the instructions below to the letter - we will not be responsible for incorrect marking due to non-standard practices.**\n",
    "\n",
    "1. <font color='red'>We have split Assignment 4 into two parts to make it easier for you to work on them separately and for the markers to give you feedback. This is part A of Assignment 4 and deals with the News-Group Dataset - Part B deals with the MNIST dataset. Both Assignments together are still worth 50% of CourseWork 2. **Remember to submit both notebooks (you can submit them separately).**</font>\n",
    "\n",
    "1. You *MUST* have your environment set up as in the [README](https://github.com/michael-camilleri/IAML2018) and you *must activate this environment before running this notebook*:\n",
    "```\n",
    "source activate py3iaml\n",
    "cd [DIRECTORY CONTAINING GIT REPOSITORY]\n",
    "jupyter notebook\n",
    "# Navigate to this file\n",
    "```\n",
    "\n",
    "1. Read the instructions carefully, especially where asked to name variables with a specific name. Wherever you are required to produce code you should use code cells, otherwise you should use markdown cells to report results and explain answers. In most cases we indicate the nature of answer we are expecting (code/text), and also provide the code/markdown cell where to put it\n",
    "\n",
    "1. There are some questions which are **specific to those taking the Level-11 version** of the course (INFR11182 and INFR11152). These are clearly marked with the words **(LEVEL 11)** and must be completed by those taking the Level 11 course. Those on the Level 10 version (INFR10069) may (and are advised to) attempt such questions but this will not affect their mark in any way, nor will they get feedback on them.\n",
    "\n",
    "1. The .csv files that you will be using are located at `./datasets` (i.e. use the `datasets` directory **adjacent** to this file).\n",
    "\n",
    "1. Keep your answers brief and concise. Most written questions can be answered with 2-3 lines of explanation: **in questions where this is specified, you will be penalised if you go over.**\n",
    "\n",
    "1. Make sure to distinguish between **attributes** (columns of the data) and **features** (which typically refers only to the independent variables, i.e. excluding the target variables).\n",
    "\n",
    "1. Make sure to show **all** your code/working. \n",
    "\n",
    "1. Write readable code. While we do not expect you to follow [PEP8](https://www.python.org/dev/peps/pep-0008/) to the letter, the code should be adequately understandable, with plots/visualisations correctly labelled. **Do** use inline comments when doing something non-standard. When asked to present numerical values, make sure to represent real numbers in the appropriate precision to exemplify your answer. Marks *WILL* be deducted if the marker cannot understand your logic/results.\n",
    "\n",
    "1. **Collaboration:** You may discuss the assignment with your colleagues, provided that the writing that you submit is entirely your own. That is, you must NOT borrow actual text or code from others. We ask that you provide a list of the people who you've had discussions with (if any). Please refer to the [Academic Misconduct](http://web.inf.ed.ac.uk/infweb/admin/policies/academic-misconduct) page for what consistutes a breach of the above.\n",
    "\n",
    "### SUBMISSION Mechanics\n",
    "\n",
    "**IMPORTANT:** You must submit this assignment by **Thursday 15/11/2018 at 16:00**. \n",
    "\n",
    "**Late submissions:** The policy stated in the School of Informatics is that normally you will not be allowed to submit coursework late. See the [ITO webpage](http://web.inf.ed.ac.uk/infweb/student-services/ito/admin/coursework-projects/late-coursework-extension-requests) for exceptions to this, e.g. in case of serious medical illness or serious personal problems.\n",
    "\n",
    "**Resubmission:** If you submit your file(s) again, the previous submission is **overwritten**. We will mark the version that is in the submission folder at the deadline.\n",
    "\n",
    "**N.B.**: This Assignment requires submitting **two files (electronically as described below)**:\n",
    " 1. This Jupyter Notebook for Part A, *and*\n",
    " 1. The Jupyter Notebook for Part B\n",
    " \n",
    "All submissions happen electronically. To submit:\n",
    "1. Fill out this notebook (as well as Part B), making sure to:\n",
    "   1. save it with **all code/text and visualisations**: markers are NOT expected to run any cells,\n",
    "   1. keep the name of the file **UNCHANGED**, *and*\n",
    "   1. **keep the same structure**: retain the questions, **DO NOT** delete any cells and **avoid** adding unnecessary cells unless absolutely necessary, as this makes the job harder for the markers.\n",
    "   \n",
    "1. Submit it using the `submit` functionality. To do this, you must be on a DICE environment. Open a Terminal, and:\n",
    "   1. **On-Campus Students**: navigate to the location of this notebook and execute the following command:\n",
    "   \n",
    "      ```submit iaml cw2 04_A_KMeans.ipynb 04_B_PCA.ipynb```\n",
    "      \n",
    "   1. **Distance Learners:** These instructions also apply to those students who work on their own computer. First you need to copy your work onto DICE (so that you can use the `submit` command). For this, you can use `scp` or `rsync` (you may need to install these yourself). You can copy files to `student.ssh.inf.ed.ac.uk`, then ssh into it in order to submit. The following is an example. Replace entries in `[square brackets]` with your specific details: i.e. if your student number is for example s1234567, then `[YOUR USERNAME]` becomes `s1234567`.\n",
    "   \n",
    "    ```\n",
    "    scp -r [FULL PATH TO 04_A_KMeans.ipynb] [YOUR USERNAME]@student.ssh.inf.ed.ac.uk:04_A_KMeans.ipynb\n",
    "    scp -r [FULL PATH TO 04_B_PCA.ipynb] [YOUR USERNAME]@student.ssh.inf.ed.ac.uk:04_B_PCA.ipynb\n",
    "    ssh [YOUR USERNAME]@student.ssh.inf.ed.ac.uk\n",
    "    ssh student.login\n",
    "    submit iaml cw2 04_A_KMeans.ipynb 04_B_PCA.ipynb\n",
    "    ```\n",
    "    \n",
    "   What actually happens in the background is that your file is placed in a folder available to markers. If you submit a file with the same name into the same location, **it will *overwrite* your previous submission**. You should receive an automatic email confirmation after submission.\n",
    "  \n",
    "\n",
    "### Marking Breakdown\n",
    "\n",
    "The Level 10 and Level 11 points are marked out of different totals, however these are all normalised to 100%. Both Part A (this notebook) and Part B are each worth 50% of the Total Mark for Assignment 4.\n",
    "\n",
    "**70-100%** results/answer correct plus extra achievement at understanding or analysis of results. Clear explanations, evidence of creative or deeper thought will contribute to a higher grade.\n",
    "\n",
    "**60-69%** results/answer correct or nearly correct and well explained.\n",
    "\n",
    "**50-59%** results/answer in right direction but significant errors.\n",
    "\n",
    "**40-49%** some evidence that the student has gained some understanding, but not answered the questions\n",
    "properly.\n",
    "\n",
    "**0-39%** serious error or slack work.\n",
    "\n",
    "Note that while this is not a programming assignment, in questions which involve visualisation of results and/or long cold snippets, some marks may be deducted if the code is not adequately readable."
   ]
  },
  {
   "cell_type": "markdown",
   "metadata": {},
   "source": [
    "## Imports\n",
    "\n",
    "Use the cell below to include any imports you deem necessary."
   ]
  },
  {
   "cell_type": "code",
   "execution_count": 2,
   "metadata": {},
   "outputs": [
    {
     "name": "stdout",
     "output_type": "stream",
     "text": [
      "Populating the interactive namespace from numpy and matplotlib\n"
     ]
    },
    {
     "name": "stderr",
     "output_type": "stream",
     "text": [
      "/home/Evan/miniconda3/envs/py3iaml/lib/python3.7/site-packages/sklearn/utils/__init__.py:4: DeprecationWarning: Using or importing the ABCs from 'collections' instead of from 'collections.abc' is deprecated, and in 3.8 it will stop working\n",
      "  from collections import Sequence\n"
     ]
    }
   ],
   "source": [
    "%matplotlib inline\n",
    "%pylab inline\n",
    "\n",
    "# Nice Formatting within Jupyter Notebook\n",
    "%matplotlib inline\n",
    "from IPython.display import display # Allows multiple displays from a single code-cell\n",
    "\n",
    "# For Getting the Data\n",
    "from sklearn.datasets import fetch_20newsgroups, load_digits\n",
    "from sklearn.feature_extraction.text import TfidfVectorizer\n",
    "\n",
    "# System functionality\n",
    "import sys\n",
    "sys.path.append('..')\n",
    "\n",
    "# Import Here any Additional modules you use. To import utilities we provide, use something like:\n",
    "#   from utils.plotter import plot_hinton\n",
    "\n",
    "# Your Code goes here:\n",
    "import os\n",
    "import numpy as np \n",
    "import pandas as pd\n",
    "import matplotlib.pyplot as plt\n",
    "import seaborn as sns\n",
    "import sklearn\n",
    "import collections\n",
    "import math\n",
    "from sklearn.preprocessing import StandardScaler\n",
    "from sklearn.decomposition import PCA\n",
    "from sklearn.metrics.cluster import adjusted_rand_score\n",
    "from sklearn.cluster import KMeans\n",
    "from utils.plotter import plot_voronoi\n"
   ]
  },
  {
   "cell_type": "markdown",
   "metadata": {},
   "source": [
    "## Description of the dataset\n",
    "\n",
    "In this part of the assignment we will cluster the observations in the 20 Newsgroups dataset using the k-means algorithm. Each row of the dataset represents a document with bag of words features. If we were not given the labels for each document (i.e. the newsgroup it came from), clustering could allow us to infer which documents should have the same label. Observing common words within each cluster may allow us to give meaning to these inferred labels too.\n",
    "\n",
    "### Description of the Data\n",
    "\n",
    "This dataset is a collection of approximately 20,000 newsgroup documents, partitioned (nearly) evenly across 20 different newsgroups, each corresponding to a different topic. Some of the newsgroups are very closely related to each other (e.g. comp.sys.ibm.pc.hardware, comp.sys.mac.hardware), while others are highly unrelated (e.g misc.forsale, soc.religion.christian). \n",
    "\n",
    "To save you time and to make the problem manageable with limited computational resources, we preprocessed the original dataset. We will use documents from only 5 out of the 20 newsgroups, which results in a 5-class problem. More specifically the 5 classes correspond to the following newsgroups: \n",
    "1. `alt.atheism`\n",
    "2. `comp.sys.ibm.pc.hardware`\n",
    "3. `comp.sys.mac.hardware`\n",
    "4. `rec.sport.baseball`\n",
    "5. `rec.sport.hockey `\n",
    "\n",
    "However, note here that classes 2-3 and 4-5 are rather closely related.\n",
    "\n",
    "**In contrast to Assignment 1**, we have opted to use tf-idf weights ([term frequency - inverse document frequency](https://en.wikipedia.org/wiki/Tf%E2%80%93idf)) for each word instead of the frequency counts (which is why we will be downloading it anew). These weights represent the importance of a word to a document with respect to a collection of documents. The importance increases proportionally to the number of times a word appears in the document and decreases proportionally to the number of times the word appears in the whole corpus. \n",
    "\n",
    "Additionally we preprocess the data to include the most frequent 1000 words that appear in more than two documents, less than half of all documents, and that are not [stop words](https://en.wikipedia.org/wiki/Stop_words). We have provided the code for this preprocessing for you."
   ]
  },
  {
   "cell_type": "markdown",
   "metadata": {},
   "source": [
    "## 1. Exploration of the dataset\n",
    "\n",
    "Instead of providing the data as a dataset, we are going to import the data from the sklearn library. Make sure you have an active internet connection and run the cell below to import the data. It would be a good idea to understand the code but it's not strictly necessary (see the [sklearn documentation](http://scikit-learn.org/0.19/datasets/index.html#the-20-newsgroups-text-dataset)).\n",
    "\n",
    "**Do not change any of the code in this cell.**\n",
    "\n",
    "*This may take a wee while as it needs to download the dataset and preprocess it.*"
   ]
  },
  {
   "cell_type": "code",
   "execution_count": 91,
   "metadata": {},
   "outputs": [],
   "source": [
    "# Load the Data with only the required categories\n",
    "cats = ['alt.atheism', 'comp.sys.ibm.pc.hardware', 'comp.sys.mac.hardware', \n",
    "        'rec.sport.baseball', 'rec.sport.hockey']\n",
    "newsgroups_train = fetch_20newsgroups(subset='train', categories=cats, \n",
    "                                      remove=('headers', 'footers', 'quotes'), data_home='./datasets')\n",
    "# Transform Data to TF-IDF and store in X/y\n",
    "vectorizer = TfidfVectorizer(max_df=0.5, max_features=1000, min_df=2, stop_words='english', \n",
    "                             token_pattern='(?u)\\\\b[A-z]{2,}\\\\b')\n",
    "X = pd.DataFrame(vectorizer.fit_transform(newsgroups_train.data).todense(), \n",
    "                 columns=vectorizer.get_feature_names())\n",
    "y = pd.Series(np.array(cats)[newsgroups_train.target])"
   ]
  },
  {
   "cell_type": "markdown",
   "metadata": {},
   "source": [
    "### ========== Question 1.1 --- [10 marks] ==========\n",
    "\n",
    "As usual we start with an initial inspection of the data. \n",
    "\n",
    "&nbsp;&nbsp;**(a)** [Code] Using suitable pandas/numpy methods, summarise the key properties of the data (variables `X` and `y`). This should be no more than a few lines of code.<br>\n",
    "&nbsp;&nbsp;**(b)** [Text] Comment on your observations from ***(a)*** (dimensionality, data ranges, anything out of the ordinary). Be sure to indicate what `X` and `y` are (data type and purpose). (<5 sentences)<br>\n",
    "&nbsp;&nbsp;**(c)** [Text] Why do you think it is useful to consider TF-IDF weights as opposed to just the frequency of times a word appears in a document as a feature? (1 or 2 sentences)"
   ]
  },
  {
   "cell_type": "code",
   "execution_count": 107,
   "metadata": {},
   "outputs": [
    {
     "name": "stdout",
     "output_type": "stream",
     "text": [
      "X shape  (2845, 1000)\n",
      "y shape  (2845,)\n",
      "0          rec.sport.baseball\n",
      "1          rec.sport.baseball\n",
      "2            rec.sport.hockey\n",
      "3    comp.sys.ibm.pc.hardware\n",
      "4          rec.sport.baseball\n",
      "dtype: object\n",
      "   abc  ability  able   ac  accept  access  according  acquired  actually  \\\n",
      "0  0.0      0.0   0.0  0.0     0.0     0.0        0.0       0.0       0.0   \n",
      "1  0.0      0.0   0.0  0.0     0.0     0.0        0.0       0.0       0.0   \n",
      "2  0.0      0.0   0.0  0.0     0.0     0.0        0.0       0.0       0.0   \n",
      "3  0.0      0.0   0.0  0.0     0.0     0.0        0.0       0.0       0.0   \n",
      "4  0.0      0.0   0.0  0.0     0.0     0.0        0.0       0.0       0.0   \n",
      "5  0.0      0.0   0.0  0.0     0.0     0.0        0.0       0.0       0.0   \n",
      "\n",
      "   adaptec  ...   written  wrong  yankees  yeah  year  years  yes  york  \\\n",
      "0      0.0  ...       0.0    0.0      0.0   0.0   0.0    0.0  0.0   0.0   \n",
      "1      0.0  ...       0.0    0.0      0.0   0.0   0.0    0.0  0.0   0.0   \n",
      "2      0.0  ...       0.0    0.0      0.0   0.0   0.0    0.0  0.0   0.0   \n",
      "3      0.0  ...       0.0    0.0      0.0   0.0   0.0    0.0  0.0   0.0   \n",
      "4      0.0  ...       0.0    0.0      0.0   0.0   0.0    0.0  0.0   0.0   \n",
      "5      0.0  ...       0.0    0.0      0.0   0.0   0.0    0.0  0.0   0.0   \n",
      "\n",
      "   young  zone  \n",
      "0    0.0   0.0  \n",
      "1    0.0   0.0  \n",
      "2    0.0   0.0  \n",
      "3    0.0   0.0  \n",
      "4    0.0   0.0  \n",
      "5    0.0   0.0  \n",
      "\n",
      "[6 rows x 1000 columns]\n",
      "<class 'pandas.core.frame.DataFrame'>\n",
      "RangeIndex: 2845 entries, 0 to 2844\n",
      "Columns: 1000 entries, abc to zone\n",
      "dtypes: float64(1000)\n",
      "memory usage: 21.7 MB\n",
      "None\n"
     ]
    }
   ],
   "source": [
    "# (a) # Your Code goes here:\n",
    "print(\"X shape \", X.shape)\n",
    "print(\"y shape \", y.shape)\n",
    "print(y.head(5))\n",
    "print(X.loc[0:5])\n",
    "\n",
    "print(X.info())"
   ]
  },
  {
   "cell_type": "markdown",
   "metadata": {},
   "source": [
    "(b) ***Your answer goes here:***\n",
    "The rows of dataframe X represent an individual Newsgroup document, while the columns contain each of the most common feature words found in each newsgroup document, which are used to predict the class labels. There are 2845 Newsgroup documents and 1000 feature words. The values found in each column are the tf-idf weights, in other words they are measurements of the frequency of the word in that document in relation to its frequency in other documents. The dataframe y contains the actual Newsgroup Class labels for the respective Newsgroup documents of each index. Interestingly, most of the word frequencies are 0, indicating that the individual words are sparsely distributed across the documents."
   ]
  },
  {
   "cell_type": "markdown",
   "metadata": {},
   "source": [
    "(c) ***Your answer goes here:***\n",
    "It is useful to use tf-idf weights because it helps account for the fact that more common words may be found more frequently in documents. For example, a common word such as \"the\" may be found with a high frequency in all the documents, but its respective tf-idf weight in a single document will not be very high, hence preventing it from undermining the presence of other, less common words in the document."
   ]
  },
  {
   "cell_type": "markdown",
   "metadata": {},
   "source": [
    "## 2. Unsupervised Learning"
   ]
  },
  {
   "cell_type": "markdown",
   "metadata": {},
   "source": [
    "### ========== Question 2.1 --- [6 marks] ==========\n",
    "\n",
    "We will now use [K-Means](http://scikit-learn.org/0.19/modules/generated/sklearn.cluster.KMeans.html#sklearn.cluster.KMeans) clustering as a means of unsupervised learning of the document classes. Familiarise yourself with the implementation and then answer the following questions.\n",
    "\n",
    "&nbsp;&nbsp;**(a)** [Text] The KMeans algorithm is non-deterministic. Explain what is meant by this, why this is the case, and how the final model is selected (3 sentences).<br>\n",
    "&nbsp;&nbsp;**(b)** [Text] One of the parameters we need to specify when using k-means is the number of clusters. What is a reasonable number for this problem and why? *Hint: Look at the `y` values, which are in a Pandas `Series`*.<br>\n",
    "&nbsp;&nbsp;**(b)** [Code] Create and fit a K-Means model to the training data `X` with your specified number of clusters. For reproducability, set `random_state=1000` -- keep other arguments at default values. Keep track of the k-means object created."
   ]
  },
  {
   "cell_type": "markdown",
   "metadata": {},
   "source": [
    "(a) ***Your answer goes here:***\n",
    "Non-deterministic means that that running the algorithm several times on the same data could give different results. This occurs in K-means clustering because the each time the algorithm is run, data points are assigned to their nearest centroids, and after doing so, the centroid is recomputed based on the data points that were assigned to it. "
   ]
  },
  {
   "cell_type": "markdown",
   "metadata": {},
   "source": [
    "(b) ***Your answer goes here:***\n",
    "It is reasonable to set the number of clusters to 5 since there are 5 different newsgroup that each document instance can be classified into"
   ]
  },
  {
   "cell_type": "code",
   "execution_count": 5,
   "metadata": {},
   "outputs": [
    {
     "data": {
      "text/plain": [
       "array([1, 3, 3, ..., 2, 3, 3], dtype=int32)"
      ]
     },
     "execution_count": 5,
     "metadata": {},
     "output_type": "execute_result"
    }
   ],
   "source": [
    "#(c) # Your Code goes here:\n",
    "\n",
    "\n",
    "kmeans = KMeans(n_clusters=5, random_state=1000).fit(X)\n",
    "kmeans.labels_"
   ]
  },
  {
   "cell_type": "markdown",
   "metadata": {},
   "source": [
    "### ========== Question 2.2 --- [6 marks] =========="
   ]
  },
  {
   "cell_type": "markdown",
   "metadata": {},
   "source": [
    "We will now evaluate the quality of this fit, primarily through the Adjusted Rand Index (ARI) of the model.\n",
    "\n",
    "&nbsp;&nbsp;**(a)** [Text] By referring to the [sklearn documentation](http://scikit-learn.org/0.19/modules/clustering.html), describe what the ARI (`adjusted_rand_score`) measures about the quality of the fit. What is a disadvantage of this measure for evaluating clustering performance? (2-3 sentences) <br>\n",
    "&nbsp;&nbsp;**(b)** [Code] Compute (and display) the Adjusted Rand Index of the fitted model.<br>\n",
    "&nbsp;&nbsp;**(c)** [Text] Comment (1 or 2 sentences) on the quality of the fit as expressed by this measure.<br>"
   ]
  },
  {
   "cell_type": "markdown",
   "metadata": {},
   "source": [
    "(a) ***Your answer goes here:***\n",
    "ARI measures the similarity between two clusterings by considering all pairs of elements in the complete dataset that are assigned to the same or different clusters in the predicted and true clusterings, with a value of 0 meaning random labeling and a value of 1 meaning the clusters are nearly identical. A classificaiton algorithm could successfully partition elements of different classes, yet all these predicted element classifications could have incorrect labels and the ARI value would have no way of telling us this, hence from the ARI measurement we would assume perfect classificaiton was achieved. Furthermore, a clustering algorithm that runs on dataset with similar true class labels may place instances with these labels into the same cluster, and this would heavily reduce the ARI value despite the class labels being so similar."
   ]
  },
  {
   "cell_type": "code",
   "execution_count": 6,
   "metadata": {},
   "outputs": [
    {
     "name": "stdout",
     "output_type": "stream",
     "text": [
      "[1 3 3 ... 2 3 3]\n"
     ]
    },
    {
     "data": {
      "text/plain": [
       "0.22619332384922217"
      ]
     },
     "execution_count": 6,
     "metadata": {},
     "output_type": "execute_result"
    }
   ],
   "source": [
    "#(b) # Your Code goes here:\n",
    "print(kmeans.labels_)\n",
    "adjusted_rand_score(y, kmeans.labels_)"
   ]
  },
  {
   "cell_type": "markdown",
   "metadata": {},
   "source": [
    "(c) ***Your answer goes here:***\n",
    "The ARI value in this case is rather low, telling us that the classification algorithm struggled to correctly partition distinct and similar elements into their respective clusters. While performance was not great, we do know that some of the true class labels were very similar, and this likely contributed to this low ARI value. "
   ]
  },
  {
   "cell_type": "markdown",
   "metadata": {},
   "source": [
    "### ========== Question 2.3 --- [12 marks] ==========\n",
    "<a id='question_2_3'></a>\n",
    "Let us explore the quality of the fit further. We will visualise bar-charts of the fit.\n",
    "\n",
    "&nbsp;&nbsp;**(a)** [Code] Create a bar-chart of the number of data-points with a particular class assigned to each cluster centre. You should be able to do this in one plot using seaborn functionality. Make sure to distinguish the cluster-centres (using for example grid-lines), and label the plot appropriately. As part of the cluster labels, include the total number of data-points assigned to that cluster. *Hint: it might be useful to specify the image width using `pylab.rcParams['figure.figsize'] = (width, height)` to make things clearer.*<br>\n",
    "&nbsp;&nbsp;**(b)** [Text] Comment (3 to 4 sentences) on the distribution of datapoints to cluster centres, and how this relates to the ARI measure above.\n"
   ]
  },
  {
   "cell_type": "code",
   "execution_count": 7,
   "metadata": {},
   "outputs": [
    {
     "name": "stdout",
     "output_type": "stream",
     "text": [
      "[0 2 4 6 8]\n",
      "-0.2\n",
      "0.0\n",
      "0.2\n",
      "0.4\n",
      "0.6000000000000001\n"
     ]
    },
    {
     "name": "stderr",
     "output_type": "stream",
     "text": [
      "/home/Evan/miniconda3/envs/py3iaml/lib/python3.7/site-packages/matplotlib/cbook/deprecation.py:107: MatplotlibDeprecationWarning: Adding an axes using the same arguments as a previous axes currently reuses the earlier instance.  In a future version, a new instance will always be created and returned.  Meanwhile, this warning can be suppressed, and the future behavior ensured, by passing a unique label to each axes instance.\n",
      "  warnings.warn(message, mplDeprecation, stacklevel=1)\n"
     ]
    },
    {
     "data": {
      "image/png": "[encoded data removed]",
      "text/plain": [
       "<Figure size 432x288 with 1 Axes>"
      ]
     },
     "metadata": {
      "needs_background": "light"
     },
     "output_type": "display_data"
    }
   ],
   "source": [
    "#(a) # Your Code goes here:\n",
    "fig = plt.figure()\n",
    "ax = fig.add_subplot(111)\n",
    "\n",
    "pylab.rcParams['figure.figsize'] = (15, 12)\n",
    "\n",
    "classes = cats\n",
    "\n",
    "x = np.arange(len(classes))\n",
    "x=x*2\n",
    "print(x)\n",
    "\n",
    "\n",
    "labels = kmeans.labels_\n",
    "\n",
    "# 'alt.atheism', 'comp.sys.ibm.pc.hardware', 'comp.sys.mac.hardware', \n",
    "#         'rec.sport.baseball', 'rec.sport.hockey'\n",
    "# y = np.array(y)\n",
    "ax = plt.subplot(111)\n",
    "i = -0.4\n",
    "colors = ['b','r','y','g','k']\n",
    "c_i = 0\n",
    "# print(colors[int(1*5)])\n",
    "\n",
    "for c in cats:\n",
    "    indices = [i for i, x in enumerate(y) if x == c] #indices for all documents belonging to specific class\n",
    "    counts = labels[indices] \n",
    "    counts = collections.Counter(counts) #number of documents from specific class belonging to each cluster\n",
    "    heights = np.zeros(5)\n",
    "    for cluster in counts:\n",
    "        heights[cluster] = counts[cluster]\n",
    "    ax.bar(x+i, heights,width=0.2,color=colors[c_i],align='center')\n",
    "    i+=0.2\n",
    "    c_i+=1\n",
    "    print(i)\n",
    "\n",
    "\n",
    "values = collections.Counter(kmeans.labels_)\n",
    "counts = np.zeros(5)\n",
    "classes = []\n",
    "\n",
    "for i in values:\n",
    "    counts[i] = values[i]\n",
    "\n",
    "\n",
    "i=0    \n",
    "for a in counts:\n",
    "    c = \"Cluster \" + str(i) + \": \" + str(int(a)) + \" documents\"\n",
    "    classes.append(c)\n",
    "    i+=1\n",
    "\n",
    "ax.set_xticks(x)\n",
    "ax.set_xticklabels(classes)\n",
    "ax.set_ylabel('Documents Count')\n",
    "ax.legend(cats)\n",
    "# ax.set_xticks(x+.5)\n",
    "# x+=1\n",
    "ax.xaxis.grid(True, xdata=x+1)\n"
   ]
  },
  {
   "cell_type": "markdown",
   "metadata": {},
   "source": [
    "(b) ***Your answer goes here:***\n",
    "As we can see from the distribution, many of the distinct class labels were partitioned into the same cluster, and some classes with the same label were partitioned into separate clusters. For some clusters, datapoints with similar class labels are found with a similar frequency, especially with the 'comp.sys.ibm.pc.hardware' and 'comp.sys.mac.hardware', telling us that these two classes likely have similar feature weights. These similar class labels caused elements belonging to the same class to be partitioned into separate clusters with elements of similar class labels, thereby hurting our ARI measure. "
   ]
  },
  {
   "cell_type": "markdown",
   "metadata": {},
   "source": [
    "### ========== Question 2.4 --- (LEVEL 11) --- [11 marks] ==========\n",
    "\n",
    "Another way to quantify the quality of the fit is to use the Aggregate Intra-Cluster Distance (this is known as the `inertia` within SKLearn).\n",
    "\n",
    "&nbsp;&nbsp;**(a)** [Text] Again by referring to the [sklearn documentation](http://scikit-learn.org/0.19/modules/clustering.html), describe what this measure reports. Indicate why it may be less straightforward at judging the quality of the clustering than the ARI. (2 to 3 sentences). <br>\n",
    "&nbsp;&nbsp;**(b)** [Code] Report the Inertia of the fitted model as well as the mean distance between each data-point and the global mean. Compute also a distance matrix such that the entry with index (i,j) shows the distance between centre i and j.<br>\n",
    "&nbsp;&nbsp;**(c)** [Text] Using the above values, comment on what the Inertia score tells us about the quality of the fit, as well as anything else you can say about the clusters. (2 to 3 sentences)"
   ]
  },
  {
   "cell_type": "markdown",
   "metadata": {},
   "source": [
    "(a) ***Your answer goes here:***"
   ]
  },
  {
   "cell_type": "code",
   "execution_count": 8,
   "metadata": {},
   "outputs": [],
   "source": [
    "# (b) # Your Code goes here:"
   ]
  },
  {
   "cell_type": "markdown",
   "metadata": {},
   "source": [
    "(c) ***Your answer goes here:***"
   ]
  },
  {
   "cell_type": "markdown",
   "metadata": {},
   "source": [
    "### ========== Question 2.5 --- [16 marks] ==========\n",
    "\n",
    "We will now investigate using [PCA](http://scikit-learn.org/0.19/modules/generated/sklearn.decomposition.PCA.html) dimensionality reduction to try and improve the quality of the fit.\n",
    "\n",
    "&nbsp;&nbsp;**(a)** [Text] Give one reason why PCA **might** be preferrable in certain cases in reducing dimensionality over just picking a subset of the features.<br>\n",
    "&nbsp;&nbsp;**(b)** [Code] Pick 10 values in the range [1, ... 1000] inclusive, representing feature-space dimensionality `n`. Use a log-scale to span this range efficiently. For each of these values, reduce the dimensionality of `X` to the respective size (i.e. PCA with `n` components), and then fit a 5-centre KMeans classifier, storing the `adjusted_rand_score` for each dimensionality. *N.B: Set the `random_state=1000` for both PCA and K-Means objects to ensure reproducability.*<br>\n",
    "&nbsp;&nbsp;**(c)** [Code] Plot the the `adjusted_rand_score` against the number of principal components. **Scale** the axes appropriately to visualise the results, and label the plot.<br>\n",
    "&nbsp;&nbsp;**(d)** [Text] Comment on the effect dimensionality reduction had on the K-Means clustering and what could give rise to this (2 - 3 sentences).<br>\n",
    "&nbsp;&nbsp;**(e)** [Code] Fit a 5-cluster K-Means object to the data with the dimensionality that produced the best ARI. In a similar manner to [Question 2.3](#question_2_3), plot a bar-chart of the number of data-points from each class assigned to each cluster. *N.B: Remember to set `random_state=1000` for both PCA and K-Means objects, and label all your diagrams*.<br>\n",
    "&nbsp;&nbsp;**(f)** [Text] Compare the clustering distribution in **(e)** and in [Question 2.3 **(a)**](#question_2_3). *Hint: comment briefly (1 to 2 sentences) on the distribution of classes*."
   ]
  },
  {
   "cell_type": "markdown",
   "metadata": {},
   "source": [
    "(a) ***Your answer goes here:***\n",
    "In feature selection, the algorithm would simply pick features that would achieve the greatest classification score without combining attributes. PCA on the other hand transforms the original feature dimensions into a lower dimension by combining features while preserving as much variance in the data as possible. In this case, the combination of features has stronger explanatory power in classification than any individual feature. Therefore, PCA is a better choice for reducing the dimensionality. "
   ]
  },
  {
   "cell_type": "code",
   "execution_count": 9,
   "metadata": {},
   "outputs": [
    {
     "data": {
      "text/plain": [
       "[0.1632376560067453,\n",
       " 0.32993289524111763,\n",
       " 0.3437707968144808,\n",
       " 0.3484449320566165,\n",
       " 0.266541318476281,\n",
       " 0.35070304761541404,\n",
       " 0.30690430975052213,\n",
       " 0.36819330563472313,\n",
       " 0.2555203190129003,\n",
       " 0.23361585745561197,\n",
       " 0.3628646260800536]"
      ]
     },
     "execution_count": 9,
     "metadata": {},
     "output_type": "execute_result"
    }
   ],
   "source": [
    "#(b) # Your Code goes here:\n",
    "# Pick 10 values in the range [1, ... 1000] inclusive, representing feature-space dimensionality n. \n",
    "# Use a log-scale to span this range efficiently. For each of these values, reduce the dimensionality of X \n",
    "# to the respective size (i.e. PCA with n components), and then fit a 5-centre KMeans classifier, \n",
    "# storing the adjusted_rand_score for each dimensionality. \n",
    "# N.B: Set the random_state=1000 for both PCA and K-Means objects to ensure reproducability.\n",
    "\n",
    "# dimensionality = np.logspace(1,3,100)\n",
    "# dimensionality = dimensionality.astype(int)\n",
    "# print(dimensionality)\n",
    "dimensionality = [1,5,10,50,100,200,300,400,500,800,1000]\n",
    "scaler = StandardScaler()\n",
    "# Fit on training set only.\n",
    "scaler.fit(X)\n",
    "# Apply normalization on the set\n",
    "X_scale = scaler.transform(X)\n",
    "ARI = list()\n",
    "\n",
    "for n in dimensionality:\n",
    "    pca = PCA(n_components=n, random_state=1000)\n",
    "    pca.fit(X_scale)\n",
    "    X_new = pca.transform(X_scale) #transform features into new feature space\n",
    "    \n",
    "    kmeans = KMeans(n_clusters=5, random_state=1000).fit(X_new)\n",
    "    ARI.append(adjusted_rand_score(y, kmeans.labels_))\n",
    "\n",
    "ARI"
   ]
  },
  {
   "cell_type": "code",
   "execution_count": 10,
   "metadata": {},
   "outputs": [
    {
     "name": "stdout",
     "output_type": "stream",
     "text": [
      "[1, 5, 10, 50, 100, 200, 300, 400, 500, 800, 1000]\n",
      "Highest ARI:  0.36819330563472313\n",
      "Best Dimensionality:  400\n"
     ]
    },
    {
     "data": {
      "image/png": "[encoded data removed]",
      "text/plain": [
       "<Figure size 1080x1080 with 1 Axes>"
      ]
     },
     "metadata": {
      "needs_background": "light"
     },
     "output_type": "display_data"
    }
   ],
   "source": [
    "#(c) # Your Code goes here:\n",
    "fig = plt.figure(figsize=(15,15))\n",
    "ax1 = fig.add_subplot(211)\n",
    "\n",
    "print(dimensionality)\n",
    "dim_scaled = [math.log(n,10) for n in dimensionality] #log-scale the dimensionality to adjust for low values\n",
    "\n",
    "plt.errorbar(dim_scaled, ARI, xlolims=True)\n",
    "\n",
    "ax1.xaxis.set_ticks(dim_scaled)\n",
    "ax1.xaxis.set_ticklabels(dimensionality)\n",
    "plt.xlabel('dimension')\n",
    "plt.ylabel('ARI score')\n",
    "\n",
    "max_index = np.argmax(ARI)\n",
    "print(\"Highest ARI: \", ARI[max_index])\n",
    "best_n = dimensionality[max_index]\n",
    "print(\"Best Dimensionality: \", best_n)"
   ]
  },
  {
   "cell_type": "markdown",
   "metadata": {},
   "source": [
    "(d) ***Your answer goes here:***\n",
    "Comment on the effect dimensionality reduction had on the K-Means clustering and what could give rise to this (2 - 3 sentences).\n",
    "\n",
    "Dimensionality reduction had a positive effect on the ARI score of the K-means clustering, meaning it helped improved the algorithms ability to properly classify element pairs of the same or different class. Due to the high dimensionality of our dataset, our algorithm had trouble discerning between similar elements, especially since many of the attributes were likely dependent. After transforming our dataset into a new dimension using PCA, we see a more distinct variability across the new component vectors as well as strong independence between these vectors, allowing our K-means algorithm to effectively discriminate unique instances based on their transformed feature vectors. "
   ]
  },
  {
   "cell_type": "code",
   "execution_count": 23,
   "metadata": {},
   "outputs": [
    {
     "name": "stdout",
     "output_type": "stream",
     "text": [
      "0.36819330563472313\n"
     ]
    },
    {
     "data": {
      "image/png": "[encoded data removed]",
      "text/plain": [
       "<Figure size 1080x864 with 1 Axes>"
      ]
     },
     "metadata": {
      "needs_background": "light"
     },
     "output_type": "display_data"
    }
   ],
   "source": [
    "#(e) # Your Code goes here:\n",
    "fig = plt.figure()\n",
    "ax = fig.add_subplot(111)\n",
    "\n",
    "pylab.rcParams['figure.figsize'] = (15, 12)\n",
    "\n",
    "classes = cats\n",
    "\n",
    "x = np.arange(len(classes))\n",
    "x=x*2\n",
    "\n",
    "\n",
    "pca = PCA(n_components=400, random_state=1000)\n",
    "pca.fit(X_scale)\n",
    "X_new = pca.transform(X_scale) #transform features into new feature space\n",
    "\n",
    "kmeans = KMeans(n_clusters=5, random_state=1000).fit(X_new) #fit kmeans instance to X_new\n",
    "labels = kmeans.labels_\n",
    "\n",
    "# 'alt.atheism', 'comp.sys.ibm.pc.hardware', 'comp.sys.mac.hardware', \n",
    "#         'rec.sport.baseball', 'rec.sport.hockey'\n",
    "# y = np.array(y)\n",
    "\n",
    "i = -0.4\n",
    "colors = ['b','r','y','g','k']\n",
    "c_i = 0\n",
    "\n",
    "\n",
    "for c in cats:\n",
    "    indices = [i for i, x in enumerate(y) if x == c] #indices for all documents belonging to specific class\n",
    "    counts = labels[indices] \n",
    "    counts = collections.Counter(counts) #number of documents from specific class belonging to each cluster\n",
    "    heights = np.zeros(5)\n",
    "    for cluster in counts:\n",
    "        heights[cluster] = counts[cluster] #heights is the number of instances of the specific class within each cluster\n",
    "    ax.bar(x+i, heights,width=0.2,color=colors[c_i], align='center')\n",
    "    i+=0.2\n",
    "    c_i+=1\n",
    "\n",
    "\n",
    "\n",
    "values = collections.Counter(labels)\n",
    "counts = np.zeros(5)\n",
    "classes = []\n",
    "\n",
    "for i in values:\n",
    "    counts[i] = values[i]\n",
    "\n",
    "\n",
    "i=0    \n",
    "for a in counts:\n",
    "    c = \"Cluster \" + str(i) + \": \" + str(int(a)) + \" documents\"\n",
    "    classes.append(c)\n",
    "    i+=1\n",
    "\n",
    "print(adjusted_rand_score(y, labels))\n",
    "    \n",
    "ax.set_xticks(x)\n",
    "ax.set_xticklabels(classes)\n",
    "ax.set_ylabel('Documents Count')\n",
    "ax.legend(cats)\n",
    "ax.xaxis.grid(True, xdata=x+1)"
   ]
  },
  {
   "cell_type": "markdown",
   "metadata": {},
   "source": [
    "(f) ***Your answer goes here:***\n",
    "Compare the clustering distribution in (e) and in Question 2.3 (a). Hint: comment briefly (1 to 2 sentences) on the distribution of classes.\n",
    "\n",
    "After performing PCA, we see the majority of our data clustered into 3 groups, with instances containing similar class labels grouped into the same cluster. Despite this, the advantage of this distribution over that in 2.3 is that here we see instances of the same class primarily being grouped into the same cluster, which is good."
   ]
  },
  {
   "cell_type": "markdown",
   "metadata": {},
   "source": [
    "### ========== Question 2.6 --- [16 marks] ==========\n",
    "\n",
    "Another benefit of Dimensionality Reduction is that it allows us to visualise the data. That is, while we cannot visualise a 1000-feature space, we can pick the top two components and visualise those. We will do this by means of a [Voronoi Diagram](https://en.wikipedia.org/wiki/Voronoi_diagram), which we will use to analyse the cluster centres.\n",
    "\n",
    "&nbsp;&nbsp;**(a)** [Text] By explaining what a Voronoi Diagram is, indicate why it is useful in visualising the extent (in space) of K-Means clusters?<br>\n",
    "&nbsp;&nbsp;**(b)** [Code] Using the function `plot_voronoi` which we provided in the `utils` package, visualise the clusters in the two-dimensional PCA space (top two components). Mark each cluster centre, and visualise **some** (*Hint: sub-sample*) of the data points to give you an idea of where the true classes lie. Make sure that the key elements of the plot are clearly visible/discernible (you may need to tweak some parameters) and label clearly all necessary elements of the plot (color-coding, data points). *Tip: you may need to change y to a numeric value if using matplotlib rather than seaborn*.<br>\n",
    "&nbsp;&nbsp;**(c)** [Text] What can you conclude from the plot as to the `classification-performance` of the K-Means classifier?"
   ]
  },
  {
   "cell_type": "markdown",
   "metadata": {},
   "source": [
    "(a) ***Your answer goes here:***\n",
    "A Voronoi Diagram partitions a plane of data into specific classes, each one centralized around a centroid. Data points are assigned to the closest class centroid. After all data points are assigned, the grouped data points make up a cell, where all data points in the cell belong to the same class cluster. The Voronoi diagram is useful for visualizing K-means clusters because it allows us to explicitly see the extent of the clusters(space they span) and how the true labels fall into these spaces. This tells us how the model is assigning data points into clusters and insight into possible improvements in assigning class labels. "
   ]
  },
  {
   "cell_type": "code",
   "execution_count": 104,
   "metadata": {},
   "outputs": [
    {
     "name": "stdout",
     "output_type": "stream",
     "text": [
      "ARI:  0.28318242070567623\n"
     ]
    },
    {
     "data": {
      "image/png": "[encoded data removed]",
      "text/plain": [
       "<Figure size 1080x864 with 1 Axes>"
      ]
     },
     "metadata": {
      "needs_background": "light"
     },
     "output_type": "display_data"
    }
   ],
   "source": [
    "#(b) # Your Code goes here:\n",
    "pca = PCA(n_components=2, random_state=1000)\n",
    "pca.fit(X_scale)\n",
    "X_new = pca.transform(X_scale) #transform features into new feature space\n",
    "\n",
    "kmeans = KMeans(n_clusters=5, random_state=1000).fit(X_new) #fit kmeans instance to X_new\n",
    "labels = kmeans.labels_\n",
    "\n",
    "def get_indices(c, array):\n",
    "    indices = [i for i, x in enumerate(array) if x == c] #indices for all documents belonging to specific class\n",
    "    return indices\n",
    "\n",
    "cluster0 = get_indices(0, labels)\n",
    "c0_center = [np.mean(X_new[:,0][cluster0])], np.mean(X_new[:,1][cluster0])\n",
    "\n",
    "cluster1 = get_indices(1, labels)\n",
    "c1_center = [np.mean(X_new[:,0][cluster1])], np.mean(X_new[:,1][cluster1])\n",
    "\n",
    "cluster2 = get_indices(2, labels)\n",
    "c2_center = [np.mean(X_new[:,0][cluster2])], np.mean(X_new[:,1][cluster2])\n",
    "\n",
    "cluster3 = get_indices(3, labels)\n",
    "c3_center = [np.mean(X_new[:,0][cluster3])], np.mean(X_new[:,1][cluster3])\n",
    "\n",
    "cluster4 = get_indices(4, labels)\n",
    "c4_center = [np.mean(X_new[:,0][cluster4])], np.mean(X_new[:,1][cluster4])\n",
    "\n",
    "fig = plt.figure()\n",
    "range_ = [-10, 60, -20, 30]\n",
    "\n",
    "plot_voronoi(kmeans, range_)\n",
    "\n",
    "marker = \"o\"\n",
    "colors = ['k', 'r', 'g', 'b', 'y']\n",
    "for cat,color in zip(cats,colors):\n",
    "    true_indices = get_indices(cat, y)\n",
    "    sub_sample_indices = true_indices[1::4] #capture every 4th class element\n",
    "    size = len(sub_sample_indices)\n",
    "    class_ = [X_new[:,0][sub_sample_indices], X_new[:,1][sub_sample_indices]]\n",
    "    plt.plot(class_[0][0:size], class_[1][0:size], marker, markersize=6, markerfacecolor=color, markeredgecolor='white', label=\"marker='{0}'\".format(marker))\n",
    "\n",
    "plt.plot(c0_center[0], c0_center[1], marker, markersize=20, markerfacecolor='orange', markeredgecolor='white')\n",
    "plt.plot(c1_center[0], c1_center[1], marker, markersize=20, markerfacecolor='orange', markeredgecolor='white')\n",
    "plt.plot(c2_center[0], c2_center[1], marker, markersize=20, markerfacecolor='orange', markeredgecolor='white')\n",
    "plt.plot(c3_center[0], c3_center[1], marker, markersize=20, markerfacecolor='orange', markeredgecolor='white')\n",
    "plt.plot(c4_center[0], c4_center[1], marker, markersize=20, markerfacecolor='orange', markeredgecolor='white')\n",
    "\n",
    "plt.xlabel(\"PCA component 1\")\n",
    "plt.ylabel(\"PCA component 2\")\n",
    "plt.grid(True, color='white')\n",
    "legend_labels = cats.copy()\n",
    "legend_labels.append(labels)\n",
    "L = plt.legend(legend_labels)\n",
    "L.get_texts()[5].set_text('kmeans cluster centroids')\n",
    "print(\"ARI: \", adjusted_rand_score(y, labels))"
   ]
  },
  {
   "cell_type": "markdown",
   "metadata": {},
   "source": [
    "(c) ***Your answer goes here:***\n",
    "What can you conclude from the plot as to the classification-performance of the K-Means classifier?"
   ]
  }
 ],
 "metadata": {
  "anaconda-cloud": {},
  "kernelspec": {
   "display_name": "Python 3",
   "language": "python",
   "name": "python3"
  },
  "language_info": {
   "codemirror_mode": {
    "name": "ipython",
    "version": 3
   },
   "file_extension": ".py",
   "mimetype": "text/x-python",
   "name": "python",
   "nbconvert_exporter": "python",
   "pygments_lexer": "ipython3",
   "version": "3.7.0"
  }
 },
 "nbformat": 4,
 "nbformat_minor": 1
}
